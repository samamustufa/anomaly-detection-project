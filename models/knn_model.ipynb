{
 "cells": [
  {
   "cell_type": "code",
   "execution_count": 101,
   "metadata": {},
   "outputs": [],
   "source": [
    "import pandas as pd\n",
    "import numpy as np\n",
    "from matplotlib import pyplot as plt\n",
    "from matplotlib import style\n",
    "import seaborn as sns\n",
    "import plotly.express as px\n",
    "from sklearn.model_selection import train_test_split, cross_val_score,GridSearchCV\n",
    "from sklearn.preprocessing import StandardScaler\n",
    "from sklearn.metrics import accuracy_score, precision_score, recall_score, f1_score,confusion_matrix\n",
    "from sklearn.linear_model import LogisticRegression\n",
    "from sklearn.tree import DecisionTreeClassifier\n",
    "from sklearn.ensemble import RandomForestClassifier\n",
    "from sklearn.svm import SVC\n",
    "from sklearn.neighbors import KNeighborsClassifier\n",
    "import matplotlib.pyplot as plt"
   ]
  },
  {
   "cell_type": "code",
   "execution_count": 102,
   "metadata": {},
   "outputs": [
    {
     "data": {
      "text/html": [
       "<div>\n",
       "<style scoped>\n",
       "    .dataframe tbody tr th:only-of-type {\n",
       "        vertical-align: middle;\n",
       "    }\n",
       "\n",
       "    .dataframe tbody tr th {\n",
       "        vertical-align: top;\n",
       "    }\n",
       "\n",
       "    .dataframe thead th {\n",
       "        text-align: right;\n",
       "    }\n",
       "</style>\n",
       "<table border=\"1\" class=\"dataframe\">\n",
       "  <thead>\n",
       "    <tr style=\"text-align: right;\">\n",
       "      <th></th>\n",
       "      <th>timestamp</th>\n",
       "      <th>X</th>\n",
       "      <th>Y</th>\n",
       "      <th>Speed</th>\n",
       "      <th>Heading</th>\n",
       "      <th>AgentCount</th>\n",
       "      <th>Density</th>\n",
       "      <th>Acc</th>\n",
       "      <th>LevelOfCrowdness</th>\n",
       "      <th>label</th>\n",
       "      <th>label2</th>\n",
       "      <th>Severity_level</th>\n",
       "    </tr>\n",
       "  </thead>\n",
       "  <tbody>\n",
       "    <tr>\n",
       "      <th>0</th>\n",
       "      <td>0:05:36</td>\n",
       "      <td>0.4225</td>\n",
       "      <td>19.1176</td>\n",
       "      <td>1.1432</td>\n",
       "      <td>89.1222</td>\n",
       "      <td>81</td>\n",
       "      <td>0.81</td>\n",
       "      <td>-0.0027</td>\n",
       "      <td>1</td>\n",
       "      <td>0</td>\n",
       "      <td>normal</td>\n",
       "      <td>0</td>\n",
       "    </tr>\n",
       "    <tr>\n",
       "      <th>1</th>\n",
       "      <td>0:05:37</td>\n",
       "      <td>0.3704</td>\n",
       "      <td>19.5130</td>\n",
       "      <td>1.1476</td>\n",
       "      <td>89.5976</td>\n",
       "      <td>83</td>\n",
       "      <td>0.83</td>\n",
       "      <td>-0.0027</td>\n",
       "      <td>1</td>\n",
       "      <td>0</td>\n",
       "      <td>normal</td>\n",
       "      <td>0</td>\n",
       "    </tr>\n",
       "    <tr>\n",
       "      <th>2</th>\n",
       "      <td>0:05:38</td>\n",
       "      <td>0.3999</td>\n",
       "      <td>19.8316</td>\n",
       "      <td>1.1466</td>\n",
       "      <td>89.4905</td>\n",
       "      <td>86</td>\n",
       "      <td>0.86</td>\n",
       "      <td>-0.0051</td>\n",
       "      <td>1</td>\n",
       "      <td>0</td>\n",
       "      <td>normal</td>\n",
       "      <td>0</td>\n",
       "    </tr>\n",
       "    <tr>\n",
       "      <th>3</th>\n",
       "      <td>0:05:39</td>\n",
       "      <td>0.3787</td>\n",
       "      <td>20.0386</td>\n",
       "      <td>1.1521</td>\n",
       "      <td>89.2123</td>\n",
       "      <td>88</td>\n",
       "      <td>0.88</td>\n",
       "      <td>-0.0009</td>\n",
       "      <td>1</td>\n",
       "      <td>0</td>\n",
       "      <td>normal</td>\n",
       "      <td>0</td>\n",
       "    </tr>\n",
       "    <tr>\n",
       "      <th>4</th>\n",
       "      <td>0:05:40</td>\n",
       "      <td>0.4031</td>\n",
       "      <td>20.4625</td>\n",
       "      <td>1.1499</td>\n",
       "      <td>89.2521</td>\n",
       "      <td>88</td>\n",
       "      <td>0.88</td>\n",
       "      <td>-0.0012</td>\n",
       "      <td>1</td>\n",
       "      <td>0</td>\n",
       "      <td>normal</td>\n",
       "      <td>0</td>\n",
       "    </tr>\n",
       "  </tbody>\n",
       "</table>\n",
       "</div>"
      ],
      "text/plain": [
       "  timestamp       X        Y   Speed  Heading  AgentCount  Density     Acc  \\\n",
       "0   0:05:36  0.4225  19.1176  1.1432  89.1222          81     0.81 -0.0027   \n",
       "1   0:05:37  0.3704  19.5130  1.1476  89.5976          83     0.83 -0.0027   \n",
       "2   0:05:38  0.3999  19.8316  1.1466  89.4905          86     0.86 -0.0051   \n",
       "3   0:05:39  0.3787  20.0386  1.1521  89.2123          88     0.88 -0.0009   \n",
       "4   0:05:40  0.4031  20.4625  1.1499  89.2521          88     0.88 -0.0012   \n",
       "\n",
       "   LevelOfCrowdness  label  label2  Severity_level  \n",
       "0                 1      0  normal               0  \n",
       "1                 1      0  normal               0  \n",
       "2                 1      0  normal               0  \n",
       "3                 1      0  normal               0  \n",
       "4                 1      0  normal               0  "
      ]
     },
     "execution_count": 102,
     "metadata": {},
     "output_type": "execute_result"
    }
   ],
   "source": [
    "filepath = r'D:\\infosys_spring\\anomaly-detection-project\\dataset\\anomaly_data.csv'\n",
    "df = pd.read_csv(filepath)\n",
    "df.head()"
   ]
  },
  {
   "cell_type": "code",
   "execution_count": 103,
   "metadata": {},
   "outputs": [
    {
     "name": "stdout",
     "output_type": "stream",
     "text": [
      "<class 'pandas.core.frame.DataFrame'>\n",
      "RangeIndex: 24123 entries, 0 to 24122\n",
      "Data columns (total 12 columns):\n",
      " #   Column            Non-Null Count  Dtype  \n",
      "---  ------            --------------  -----  \n",
      " 0   timestamp         24123 non-null  object \n",
      " 1   X                 24123 non-null  float64\n",
      " 2   Y                 24123 non-null  float64\n",
      " 3   Speed             24123 non-null  float64\n",
      " 4   Heading           24123 non-null  float64\n",
      " 5   AgentCount        24123 non-null  int64  \n",
      " 6   Density           24123 non-null  float64\n",
      " 7   Acc               24019 non-null  float64\n",
      " 8   LevelOfCrowdness  24123 non-null  int64  \n",
      " 9   label             24123 non-null  int64  \n",
      " 10  label2            24123 non-null  object \n",
      " 11  Severity_level    24123 non-null  int64  \n",
      "dtypes: float64(6), int64(4), object(2)\n",
      "memory usage: 2.2+ MB\n"
     ]
    }
   ],
   "source": [
    "df.info()"
   ]
  },
  {
   "cell_type": "code",
   "execution_count": 104,
   "metadata": {},
   "outputs": [
    {
     "data": {
      "text/html": [
       "<div>\n",
       "<style scoped>\n",
       "    .dataframe tbody tr th:only-of-type {\n",
       "        vertical-align: middle;\n",
       "    }\n",
       "\n",
       "    .dataframe tbody tr th {\n",
       "        vertical-align: top;\n",
       "    }\n",
       "\n",
       "    .dataframe thead th {\n",
       "        text-align: right;\n",
       "    }\n",
       "</style>\n",
       "<table border=\"1\" class=\"dataframe\">\n",
       "  <thead>\n",
       "    <tr style=\"text-align: right;\">\n",
       "      <th></th>\n",
       "      <th>X</th>\n",
       "      <th>Y</th>\n",
       "      <th>Speed</th>\n",
       "      <th>Heading</th>\n",
       "      <th>AgentCount</th>\n",
       "      <th>Density</th>\n",
       "      <th>Acc</th>\n",
       "      <th>LevelOfCrowdness</th>\n",
       "      <th>label</th>\n",
       "      <th>Severity_level</th>\n",
       "    </tr>\n",
       "  </thead>\n",
       "  <tbody>\n",
       "    <tr>\n",
       "      <th>count</th>\n",
       "      <td>24123.000000</td>\n",
       "      <td>24123.000000</td>\n",
       "      <td>24123.000000</td>\n",
       "      <td>24123.000000</td>\n",
       "      <td>24123.000000</td>\n",
       "      <td>24123.000000</td>\n",
       "      <td>24019.000000</td>\n",
       "      <td>24123.000000</td>\n",
       "      <td>24123.000000</td>\n",
       "      <td>24123.000000</td>\n",
       "    </tr>\n",
       "    <tr>\n",
       "      <th>mean</th>\n",
       "      <td>0.319789</td>\n",
       "      <td>19.989362</td>\n",
       "      <td>0.742941</td>\n",
       "      <td>90.314782</td>\n",
       "      <td>251.092277</td>\n",
       "      <td>2.510923</td>\n",
       "      <td>0.004203</td>\n",
       "      <td>2.337064</td>\n",
       "      <td>0.288977</td>\n",
       "      <td>0.509265</td>\n",
       "    </tr>\n",
       "    <tr>\n",
       "      <th>std</th>\n",
       "      <td>0.067545</td>\n",
       "      <td>1.205473</td>\n",
       "      <td>0.279331</td>\n",
       "      <td>4.803848</td>\n",
       "      <td>167.615884</td>\n",
       "      <td>1.676159</td>\n",
       "      <td>0.032528</td>\n",
       "      <td>1.456331</td>\n",
       "      <td>0.453297</td>\n",
       "      <td>0.857201</td>\n",
       "    </tr>\n",
       "    <tr>\n",
       "      <th>min</th>\n",
       "      <td>-1.205900</td>\n",
       "      <td>11.162700</td>\n",
       "      <td>0.124400</td>\n",
       "      <td>84.324100</td>\n",
       "      <td>1.000000</td>\n",
       "      <td>0.010000</td>\n",
       "      <td>-1.031300</td>\n",
       "      <td>1.000000</td>\n",
       "      <td>0.000000</td>\n",
       "      <td>0.000000</td>\n",
       "    </tr>\n",
       "    <tr>\n",
       "      <th>25%</th>\n",
       "      <td>0.264500</td>\n",
       "      <td>19.575700</td>\n",
       "      <td>0.496700</td>\n",
       "      <td>88.475950</td>\n",
       "      <td>134.000000</td>\n",
       "      <td>1.340000</td>\n",
       "      <td>-0.001400</td>\n",
       "      <td>1.000000</td>\n",
       "      <td>0.000000</td>\n",
       "      <td>0.000000</td>\n",
       "    </tr>\n",
       "    <tr>\n",
       "      <th>50%</th>\n",
       "      <td>0.325400</td>\n",
       "      <td>20.288600</td>\n",
       "      <td>0.784300</td>\n",
       "      <td>89.170200</td>\n",
       "      <td>187.000000</td>\n",
       "      <td>1.870000</td>\n",
       "      <td>0.006300</td>\n",
       "      <td>2.000000</td>\n",
       "      <td>0.000000</td>\n",
       "      <td>0.000000</td>\n",
       "    </tr>\n",
       "    <tr>\n",
       "      <th>75%</th>\n",
       "      <td>0.356800</td>\n",
       "      <td>20.692900</td>\n",
       "      <td>1.005900</td>\n",
       "      <td>89.798100</td>\n",
       "      <td>336.000000</td>\n",
       "      <td>3.360000</td>\n",
       "      <td>0.013900</td>\n",
       "      <td>3.000000</td>\n",
       "      <td>1.000000</td>\n",
       "      <td>1.000000</td>\n",
       "    </tr>\n",
       "    <tr>\n",
       "      <th>max</th>\n",
       "      <td>1.966700</td>\n",
       "      <td>23.771700</td>\n",
       "      <td>1.567800</td>\n",
       "      <td>138.162100</td>\n",
       "      <td>990.000000</td>\n",
       "      <td>9.900000</td>\n",
       "      <td>0.455500</td>\n",
       "      <td>5.000000</td>\n",
       "      <td>1.000000</td>\n",
       "      <td>3.000000</td>\n",
       "    </tr>\n",
       "  </tbody>\n",
       "</table>\n",
       "</div>"
      ],
      "text/plain": [
       "                  X             Y         Speed       Heading    AgentCount  \\\n",
       "count  24123.000000  24123.000000  24123.000000  24123.000000  24123.000000   \n",
       "mean       0.319789     19.989362      0.742941     90.314782    251.092277   \n",
       "std        0.067545      1.205473      0.279331      4.803848    167.615884   \n",
       "min       -1.205900     11.162700      0.124400     84.324100      1.000000   \n",
       "25%        0.264500     19.575700      0.496700     88.475950    134.000000   \n",
       "50%        0.325400     20.288600      0.784300     89.170200    187.000000   \n",
       "75%        0.356800     20.692900      1.005900     89.798100    336.000000   \n",
       "max        1.966700     23.771700      1.567800    138.162100    990.000000   \n",
       "\n",
       "            Density           Acc  LevelOfCrowdness         label  \\\n",
       "count  24123.000000  24019.000000      24123.000000  24123.000000   \n",
       "mean       2.510923      0.004203          2.337064      0.288977   \n",
       "std        1.676159      0.032528          1.456331      0.453297   \n",
       "min        0.010000     -1.031300          1.000000      0.000000   \n",
       "25%        1.340000     -0.001400          1.000000      0.000000   \n",
       "50%        1.870000      0.006300          2.000000      0.000000   \n",
       "75%        3.360000      0.013900          3.000000      1.000000   \n",
       "max        9.900000      0.455500          5.000000      1.000000   \n",
       "\n",
       "       Severity_level  \n",
       "count    24123.000000  \n",
       "mean         0.509265  \n",
       "std          0.857201  \n",
       "min          0.000000  \n",
       "25%          0.000000  \n",
       "50%          0.000000  \n",
       "75%          1.000000  \n",
       "max          3.000000  "
      ]
     },
     "execution_count": 104,
     "metadata": {},
     "output_type": "execute_result"
    }
   ],
   "source": [
    "df.describe()"
   ]
  },
  {
   "cell_type": "code",
   "execution_count": 105,
   "metadata": {},
   "outputs": [
    {
     "data": {
      "text/plain": [
       "timestamp             0\n",
       "X                     0\n",
       "Y                     0\n",
       "Speed                 0\n",
       "Heading               0\n",
       "AgentCount            0\n",
       "Density               0\n",
       "Acc                 104\n",
       "LevelOfCrowdness      0\n",
       "label                 0\n",
       "label2                0\n",
       "Severity_level        0\n",
       "dtype: int64"
      ]
     },
     "execution_count": 105,
     "metadata": {},
     "output_type": "execute_result"
    }
   ],
   "source": [
    "df.isna().sum()"
   ]
  },
  {
   "cell_type": "code",
   "execution_count": 106,
   "metadata": {},
   "outputs": [],
   "source": [
    "df['Acc'] = df['Acc'].fillna(df['Acc'].mean()) "
   ]
  },
  {
   "cell_type": "code",
   "execution_count": 107,
   "metadata": {},
   "outputs": [
    {
     "data": {
      "text/plain": [
       "timestamp           0\n",
       "X                   0\n",
       "Y                   0\n",
       "Speed               0\n",
       "Heading             0\n",
       "AgentCount          0\n",
       "Density             0\n",
       "Acc                 0\n",
       "LevelOfCrowdness    0\n",
       "label               0\n",
       "label2              0\n",
       "Severity_level      0\n",
       "dtype: int64"
      ]
     },
     "execution_count": 107,
     "metadata": {},
     "output_type": "execute_result"
    }
   ],
   "source": [
    "df.isnull().sum()"
   ]
  },
  {
   "cell_type": "code",
   "execution_count": 108,
   "metadata": {},
   "outputs": [
    {
     "name": "stdout",
     "output_type": "stream",
     "text": [
      "75th quartile:  3.36\n",
      "25th quartile:  1.34\n"
     ]
    }
   ],
   "source": [
    "percentile25 = df['Density'].quantile(0.25)\n",
    "percentile75 = df['Density'].quantile(0.75)\n",
    "print(\"75th quartile: \",percentile75)\n",
    "print(\"25th quartile: \",percentile25)"
   ]
  },
  {
   "cell_type": "code",
   "execution_count": 109,
   "metadata": {},
   "outputs": [
    {
     "name": "stdout",
     "output_type": "stream",
     "text": [
      "IQR:  2.0199999999999996\n"
     ]
    }
   ],
   "source": [
    "iqr = percentile75 - percentile25\n",
    "print (\"IQR: \",iqr)"
   ]
  },
  {
   "cell_type": "code",
   "execution_count": 110,
   "metadata": {},
   "outputs": [
    {
     "name": "stdout",
     "output_type": "stream",
     "text": [
      "Upper limit 6.389999999999999\n",
      "Lower limit -1.6899999999999993\n"
     ]
    }
   ],
   "source": [
    "upper_limit = percentile75 + 1.5 * iqr\n",
    "lower_limit = percentile25 - 1.5 * iqr\n",
    "\n",
    "print(\"Upper limit\",upper_limit)\n",
    "print(\"Lower limit\",lower_limit)"
   ]
  },
  {
   "cell_type": "code",
   "execution_count": 111,
   "metadata": {},
   "outputs": [],
   "source": [
    "# def find_outliers_IQR(df):\n",
    "\n",
    "#    q1=df.quantile(0.25)\n",
    "\n",
    "#    q3=df.quantile(0.75)\n",
    "\n",
    "#    IQR=q3-q1\n",
    "\n",
    "#    outliers = df[((df<(q1-1.5*IQR)) | (df>(q3+1.5*IQR)))]\n",
    "\n",
    "#    return outliers\n",
    "# outliers = find_outliers_IQR(df['Speed'])\n",
    "\n",
    "# print(\"number of outliers: \"+ str(len(outliers)))\n",
    "\n",
    "# print(\"max outlier value: \"+ str(outliers.max()))\n",
    "\n",
    "# print(\"min outlier value: \"+ str(outliers.min()))\n",
    "# outliers"
   ]
  },
  {
   "cell_type": "code",
   "execution_count": 112,
   "metadata": {},
   "outputs": [
    {
     "data": {
      "text/html": [
       "<div>\n",
       "<style scoped>\n",
       "    .dataframe tbody tr th:only-of-type {\n",
       "        vertical-align: middle;\n",
       "    }\n",
       "\n",
       "    .dataframe tbody tr th {\n",
       "        vertical-align: top;\n",
       "    }\n",
       "\n",
       "    .dataframe thead th {\n",
       "        text-align: right;\n",
       "    }\n",
       "</style>\n",
       "<table border=\"1\" class=\"dataframe\">\n",
       "  <thead>\n",
       "    <tr style=\"text-align: right;\">\n",
       "      <th></th>\n",
       "      <th>timestamp</th>\n",
       "      <th>X</th>\n",
       "      <th>Y</th>\n",
       "      <th>Speed</th>\n",
       "      <th>Heading</th>\n",
       "      <th>AgentCount</th>\n",
       "      <th>Density</th>\n",
       "      <th>Acc</th>\n",
       "      <th>LevelOfCrowdness</th>\n",
       "      <th>label</th>\n",
       "      <th>label2</th>\n",
       "      <th>Severity_level</th>\n",
       "    </tr>\n",
       "  </thead>\n",
       "  <tbody>\n",
       "    <tr>\n",
       "      <th>0</th>\n",
       "      <td>0:05:36</td>\n",
       "      <td>0.4225</td>\n",
       "      <td>19.1176</td>\n",
       "      <td>1.1432</td>\n",
       "      <td>89.1222</td>\n",
       "      <td>81</td>\n",
       "      <td>0.81</td>\n",
       "      <td>-0.0027</td>\n",
       "      <td>1</td>\n",
       "      <td>0</td>\n",
       "      <td>normal</td>\n",
       "      <td>0</td>\n",
       "    </tr>\n",
       "    <tr>\n",
       "      <th>1</th>\n",
       "      <td>0:05:37</td>\n",
       "      <td>0.3704</td>\n",
       "      <td>19.5130</td>\n",
       "      <td>1.1476</td>\n",
       "      <td>89.5976</td>\n",
       "      <td>83</td>\n",
       "      <td>0.83</td>\n",
       "      <td>-0.0027</td>\n",
       "      <td>1</td>\n",
       "      <td>0</td>\n",
       "      <td>normal</td>\n",
       "      <td>0</td>\n",
       "    </tr>\n",
       "    <tr>\n",
       "      <th>2</th>\n",
       "      <td>0:05:38</td>\n",
       "      <td>0.3999</td>\n",
       "      <td>19.8316</td>\n",
       "      <td>1.1466</td>\n",
       "      <td>89.4905</td>\n",
       "      <td>86</td>\n",
       "      <td>0.86</td>\n",
       "      <td>-0.0051</td>\n",
       "      <td>1</td>\n",
       "      <td>0</td>\n",
       "      <td>normal</td>\n",
       "      <td>0</td>\n",
       "    </tr>\n",
       "    <tr>\n",
       "      <th>3</th>\n",
       "      <td>0:05:39</td>\n",
       "      <td>0.3787</td>\n",
       "      <td>20.0386</td>\n",
       "      <td>1.1521</td>\n",
       "      <td>89.2123</td>\n",
       "      <td>88</td>\n",
       "      <td>0.88</td>\n",
       "      <td>-0.0009</td>\n",
       "      <td>1</td>\n",
       "      <td>0</td>\n",
       "      <td>normal</td>\n",
       "      <td>0</td>\n",
       "    </tr>\n",
       "    <tr>\n",
       "      <th>4</th>\n",
       "      <td>0:05:40</td>\n",
       "      <td>0.4031</td>\n",
       "      <td>20.4625</td>\n",
       "      <td>1.1499</td>\n",
       "      <td>89.2521</td>\n",
       "      <td>88</td>\n",
       "      <td>0.88</td>\n",
       "      <td>-0.0012</td>\n",
       "      <td>1</td>\n",
       "      <td>0</td>\n",
       "      <td>normal</td>\n",
       "      <td>0</td>\n",
       "    </tr>\n",
       "  </tbody>\n",
       "</table>\n",
       "</div>"
      ],
      "text/plain": [
       "  timestamp       X        Y   Speed  Heading  AgentCount  Density     Acc  \\\n",
       "0   0:05:36  0.4225  19.1176  1.1432  89.1222          81     0.81 -0.0027   \n",
       "1   0:05:37  0.3704  19.5130  1.1476  89.5976          83     0.83 -0.0027   \n",
       "2   0:05:38  0.3999  19.8316  1.1466  89.4905          86     0.86 -0.0051   \n",
       "3   0:05:39  0.3787  20.0386  1.1521  89.2123          88     0.88 -0.0009   \n",
       "4   0:05:40  0.4031  20.4625  1.1499  89.2521          88     0.88 -0.0012   \n",
       "\n",
       "   LevelOfCrowdness  label  label2  Severity_level  \n",
       "0                 1      0  normal               0  \n",
       "1                 1      0  normal               0  \n",
       "2                 1      0  normal               0  \n",
       "3                 1      0  normal               0  \n",
       "4                 1      0  normal               0  "
      ]
     },
     "execution_count": 112,
     "metadata": {},
     "output_type": "execute_result"
    }
   ],
   "source": [
    "df.head()"
   ]
  },
  {
   "cell_type": "code",
   "execution_count": 113,
   "metadata": {},
   "outputs": [
    {
     "name": "stdout",
     "output_type": "stream",
     "text": [
      "Index(['timestamp', 'X', 'Y', 'Speed', 'Heading', 'AgentCount', 'Density',\n",
      "       'Acc', 'LevelOfCrowdness', 'label', 'label2', 'Severity_level'],\n",
      "      dtype='object')\n"
     ]
    }
   ],
   "source": [
    "print(df.columns)\n"
   ]
  },
  {
   "cell_type": "code",
   "execution_count": 114,
   "metadata": {},
   "outputs": [
    {
     "data": {
      "text/html": [
       "<div>\n",
       "<style scoped>\n",
       "    .dataframe tbody tr th:only-of-type {\n",
       "        vertical-align: middle;\n",
       "    }\n",
       "\n",
       "    .dataframe tbody tr th {\n",
       "        vertical-align: top;\n",
       "    }\n",
       "\n",
       "    .dataframe thead th {\n",
       "        text-align: right;\n",
       "    }\n",
       "</style>\n",
       "<table border=\"1\" class=\"dataframe\">\n",
       "  <thead>\n",
       "    <tr style=\"text-align: right;\">\n",
       "      <th></th>\n",
       "      <th>Speed</th>\n",
       "      <th>Heading</th>\n",
       "      <th>Density</th>\n",
       "    </tr>\n",
       "  </thead>\n",
       "  <tbody>\n",
       "    <tr>\n",
       "      <th>0</th>\n",
       "      <td>1.1432</td>\n",
       "      <td>89.1222</td>\n",
       "      <td>0.81</td>\n",
       "    </tr>\n",
       "  </tbody>\n",
       "</table>\n",
       "</div>"
      ],
      "text/plain": [
       "    Speed  Heading  Density\n",
       "0  1.1432  89.1222     0.81"
      ]
     },
     "execution_count": 114,
     "metadata": {},
     "output_type": "execute_result"
    }
   ],
   "source": [
    "X = df.drop(columns=['timestamp', 'X', 'Y', 'AgentCount',\n",
    "                     'Acc','LevelOfCrowdness', 'label', 'label2', 'Severity_level'])\n",
    "y = df['label'] \n",
    "\n",
    "\n",
    "# Split the dataset into training and testing sets\n",
    "X_train, X_test, y_train, y_test = train_test_split(X, y, train_size=0.7, random_state=42)\n",
    "X_train.shape, X_test.shape\n",
    "\n",
    "X.head(1)                                                   "
   ]
  },
  {
   "cell_type": "code",
   "execution_count": 115,
   "metadata": {},
   "outputs": [],
   "source": [
    "# scaler = StandardScaler()\n",
    "# X_train = scaler.fit_transform(X_train)\n",
    "# X_test = scaler.transform(X_test)"
   ]
  },
  {
   "cell_type": "markdown",
   "metadata": {},
   "source": [
    "# KNN"
   ]
  },
  {
   "cell_type": "code",
   "execution_count": 116,
   "metadata": {},
   "outputs": [],
   "source": [
    "from sklearn.neighbors import KNeighborsClassifier\n",
    "# knn = KNeighborsClassifier(n_neighbors =3,p=2)"
   ]
  },
  {
   "cell_type": "code",
   "execution_count": 117,
   "metadata": {},
   "outputs": [],
   "source": [
    "# knn.fit(X_train, y_train)\n",
    "# y_pred = knn.predict(X_test)\n",
    "# y_pred"
   ]
  },
  {
   "cell_type": "code",
   "execution_count": 118,
   "metadata": {},
   "outputs": [],
   "source": [
    "# from sklearn import metrics\n",
    "# print(\"Accuracy:\",metrics.accuracy_score(y_test, y_pred))\n"
   ]
  },
  {
   "cell_type": "code",
   "execution_count": 119,
   "metadata": {},
   "outputs": [
    {
     "name": "stdout",
     "output_type": "stream",
     "text": [
      "Confusion Matrix:\n",
      "[[5059    6]\n",
      " [   8 2164]]\n",
      "Classification Report:\n",
      "              precision    recall  f1-score   support\n",
      "\n",
      "           0       1.00      1.00      1.00      5065\n",
      "           1       1.00      1.00      1.00      2172\n",
      "\n",
      "    accuracy                           1.00      7237\n",
      "   macro avg       1.00      1.00      1.00      7237\n",
      "weighted avg       1.00      1.00      1.00      7237\n",
      "\n"
     ]
    }
   ],
   "source": [
    "from sklearn import metrics\n",
    "# We are going to run it for k = 1 to 15 and will be recording testing accuracy, plotting it, showing confusion matrix and classification report:\n",
    "range_k = range(1,15)\n",
    "scores = {}\n",
    "scores_list = []\n",
    "for k in range_k:\n",
    "   classifier = KNeighborsClassifier(n_neighbors=k)\n",
    "   classifier.fit(X_train, y_train)\n",
    "   y_pred = classifier.predict(X_test)\n",
    "   scores[k] = metrics.accuracy_score(y_test,y_pred)\n",
    "   scores_list.append(metrics.accuracy_score(y_test,y_pred))\n",
    "result = metrics.confusion_matrix(y_test, y_pred)\n",
    "print(\"Confusion Matrix:\")\n",
    "print(result)\n",
    "result1 = metrics.classification_report(y_test, y_pred)\n",
    "print(\"Classification Report:\",)\n",
    "print (result1)"
   ]
  },
  {
   "cell_type": "code",
   "execution_count": 120,
   "metadata": {},
   "outputs": [
    {
     "name": "stdout",
     "output_type": "stream",
     "text": [
      "Training Accuracy: 0.9986971455643728\n",
      "Test Accuracy: 0.9980654967527981\n"
     ]
    }
   ],
   "source": [
    "from sklearn.metrics import accuracy_score\n",
    "\n",
    "# Assuming you have already split your data into X_train, X_test, y_train, y_test\n",
    "\n",
    "# Fit the model on the training data\n",
    "classifier.fit(X_train, y_train)\n",
    "\n",
    "# Predict on the training and test data\n",
    "y_train_pred = classifier.predict(X_train)\n",
    "y_test_pred = classifier.predict(X_test)\n",
    "\n",
    "# Calculate the accuracy on the training and test data\n",
    "train_accuracy = accuracy_score(y_train, y_train_pred)\n",
    "test_accuracy = accuracy_score(y_test, y_test_pred)\n",
    "\n",
    "print(f'Training Accuracy: {train_accuracy}')\n",
    "print(f'Test Accuracy: {test_accuracy}')"
   ]
  },
  {
   "cell_type": "code",
   "execution_count": 121,
   "metadata": {},
   "outputs": [
    {
     "name": "stdout",
     "output_type": "stream",
     "text": [
      "Cross-Validation Scores: [0.9973357  0.99792715 0.99822328 0.99733491 0.99703879]\n",
      "Mean Cross-Validation Score: 0.9975719670890376\n"
     ]
    }
   ],
   "source": [
    "from sklearn.model_selection import cross_val_score\n",
    "\n",
    "# Perform cross-validation on the training data\n",
    "cv_scores = cross_val_score(classifier, X_train, y_train, cv=5, scoring='accuracy')\n",
    "\n",
    "print(f'Cross-Validation Scores: {cv_scores}')\n",
    "print(f'Mean Cross-Validation Score: {np.mean(cv_scores)}')"
   ]
  },
  {
   "cell_type": "code",
   "execution_count": 122,
   "metadata": {},
   "outputs": [
    {
     "name": "stdout",
     "output_type": "stream",
     "text": [
      "Confusion Matrix:\n",
      " [[5059    6]\n",
      " [   8 2164]]\n",
      "Classification Report:\n",
      "               precision    recall  f1-score   support\n",
      "\n",
      "           0       1.00      1.00      1.00      5065\n",
      "           1       1.00      1.00      1.00      2172\n",
      "\n",
      "    accuracy                           1.00      7237\n",
      "   macro avg       1.00      1.00      1.00      7237\n",
      "weighted avg       1.00      1.00      1.00      7237\n",
      "\n"
     ]
    }
   ],
   "source": [
    "from sklearn.metrics import confusion_matrix, classification_report\n",
    "\n",
    "# Predict on test data\n",
    "y_pred = classifier.predict(X_test)\n",
    "\n",
    "# Confusion Matrix\n",
    "conf_matrix = confusion_matrix(y_test, y_pred)\n",
    "print(\"Confusion Matrix:\\n\", conf_matrix)\n",
    "\n",
    "# Classification Report\n",
    "class_report = classification_report(y_test, y_pred)\n",
    "print(\"Classification Report:\\n\", class_report)"
   ]
  },
  {
   "cell_type": "code",
   "execution_count": 123,
   "metadata": {},
   "outputs": [
    {
     "data": {
      "image/png": "[encoded data removed]",
      "text/plain": [
       "<Figure size 640x480 with 1 Axes>"
      ]
     },
     "metadata": {},
     "output_type": "display_data"
    }
   ],
   "source": [
    "import matplotlib.pyplot as plt\n",
    "from sklearn.model_selection import learning_curve\n",
    "\n",
    "def plot_learning_curve(estimator, X, y, cv=5, n_jobs=-1, train_sizes=np.linspace(0.1, 1.0, 5)):\n",
    "    train_sizes, train_scores, test_scores = learning_curve(\n",
    "        estimator, X, y, cv=cv, n_jobs=n_jobs, train_sizes=train_sizes, scoring='accuracy'\n",
    "    )\n",
    "    \n",
    "    train_scores_mean = np.mean(train_scores, axis=1)\n",
    "    train_scores_std = np.std(train_scores, axis=1)\n",
    "    test_scores_mean = np.mean(test_scores, axis=1)\n",
    "    test_scores_std = np.std(test_scores, axis=1)\n",
    "\n",
    "    plt.figure()\n",
    "    plt.title(\"Learning Curve\")\n",
    "    plt.xlabel(\"Training examples\")\n",
    "    plt.ylabel(\"Score\")\n",
    "    plt.ylim((0.0, 1.1))\n",
    "    plt.grid()\n",
    "\n",
    "    plt.fill_between(train_sizes, train_scores_mean - train_scores_std,\n",
    "                     train_scores_mean + train_scores_std, alpha=0.1, color=\"r\")\n",
    "    plt.fill_between(train_sizes, test_scores_mean - test_scores_std,\n",
    "                     test_scores_mean + test_scores_std, alpha=0.1, color=\"g\")\n",
    "    plt.plot(train_sizes, train_scores_mean, 'o-', color=\"r\", label=\"Training score\")\n",
    "    plt.plot(train_sizes, test_scores_mean, 'o-', color=\"g\", label=\"Cross-validation score\")\n",
    "\n",
    "    plt.legend(loc=\"best\")\n",
    "    return plt\n",
    "\n",
    "# Example usage:\n",
    "plot_learning_curve(classifier, X_train, y_train)\n",
    "plt.show()\n"
   ]
  },
  {
   "cell_type": "code",
   "execution_count": 124,
   "metadata": {},
   "outputs": [
    {
     "name": "stdout",
     "output_type": "stream",
     "text": [
      "Cross-Validation Scores: [0.9973357  0.99792715 0.99822328 0.99733491 0.99703879]\n",
      "Mean Cross-Validation Score: 0.9975719670890376\n"
     ]
    }
   ],
   "source": [
    "from sklearn.model_selection import cross_val_score\n",
    "\n",
    "# Perform cross-validation on the training data\n",
    "cv_scores = cross_val_score(classifier, X_train, y_train, cv=5, scoring='accuracy')\n",
    "\n",
    "print(f'Cross-Validation Scores: {cv_scores}')\n",
    "print(f'Mean Cross-Validation Score: {np.mean(cv_scores)}')"
   ]
  },
  {
   "cell_type": "code",
   "execution_count": 125,
   "metadata": {},
   "outputs": [
    {
     "data": {
      "text/plain": [
       "Text(0, 0.5, 'Accuracy')"
      ]
     },
     "execution_count": 125,
     "metadata": {},
     "output_type": "execute_result"
    },
    {
     "data": {
      "image/png": "[encoded data removed]",
      "text/plain": [
       "<Figure size 640x480 with 1 Axes>"
      ]
     },
     "metadata": {},
     "output_type": "display_data"
    }
   ],
   "source": [
    "%matplotlib inline\n",
    "import matplotlib.pyplot as plt\n",
    "plt.plot(range_k,scores_list)\n",
    "plt.xlabel(\"Value of K\")\n",
    "plt.ylabel(\"Accuracy\")"
   ]
  }
 ],
 "metadata": {
  "kernelspec": {
   "display_name": "base",
   "language": "python",
   "name": "python3"
  },
  "language_info": {
   "codemirror_mode": {
    "name": "ipython",
    "version": 3
   },
   "file_extension": ".py",
   "mimetype": "text/x-python",
   "name": "python",
   "nbconvert_exporter": "python",
   "pygments_lexer": "ipython3",
   "version": "3.11.5"
  }
 },
 "nbformat": 4,
 "nbformat_minor": 2
}
