{
 "cells": [
  {
   "cell_type": "code",
   "execution_count": 28,
   "metadata": {},
   "outputs": [],
   "source": [
    "import pandas as pd\n",
    "import numpy as np\n",
    "from matplotlib import pyplot as plt\n",
    "from matplotlib import style\n",
    "import seaborn as sns\n",
    "import plotly.express as px\n",
    "from sklearn.model_selection import train_test_split, cross_val_score,GridSearchCV\n",
    "from sklearn.preprocessing import StandardScaler\n",
    "from sklearn.metrics import accuracy_score, precision_score, recall_score, f1_score,confusion_matrix\n",
    "from sklearn.linear_model import LogisticRegression\n",
    "from sklearn.tree import DecisionTreeClassifier\n",
    "from sklearn.ensemble import RandomForestClassifier\n",
    "from sklearn.svm import SVC\n",
    "from sklearn.neighbors import KNeighborsClassifier\n",
    "import matplotlib.pyplot as plt"
   ]
  },
  {
   "cell_type": "code",
   "execution_count": 29,
   "metadata": {},
   "outputs": [
    {
     "data": {
      "text/html": [
       "<div>\n",
       "<style scoped>\n",
       "    .dataframe tbody tr th:only-of-type {\n",
       "        vertical-align: middle;\n",
       "    }\n",
       "\n",
       "    .dataframe tbody tr th {\n",
       "        vertical-align: top;\n",
       "    }\n",
       "\n",
       "    .dataframe thead th {\n",
       "        text-align: right;\n",
       "    }\n",
       "</style>\n",
       "<table border=\"1\" class=\"dataframe\">\n",
       "  <thead>\n",
       "    <tr style=\"text-align: right;\">\n",
       "      <th></th>\n",
       "      <th>timestamp</th>\n",
       "      <th>X</th>\n",
       "      <th>Y</th>\n",
       "      <th>Speed</th>\n",
       "      <th>Heading</th>\n",
       "      <th>AgentCount</th>\n",
       "      <th>Density</th>\n",
       "      <th>Acc</th>\n",
       "      <th>LevelOfCrowdness</th>\n",
       "      <th>label</th>\n",
       "      <th>label2</th>\n",
       "      <th>Severity_level</th>\n",
       "    </tr>\n",
       "  </thead>\n",
       "  <tbody>\n",
       "    <tr>\n",
       "      <th>0</th>\n",
       "      <td>0:05:36</td>\n",
       "      <td>0.4225</td>\n",
       "      <td>19.1176</td>\n",
       "      <td>1.1432</td>\n",
       "      <td>89.1222</td>\n",
       "      <td>81</td>\n",
       "      <td>0.81</td>\n",
       "      <td>-0.0027</td>\n",
       "      <td>1</td>\n",
       "      <td>0</td>\n",
       "      <td>normal</td>\n",
       "      <td>0</td>\n",
       "    </tr>\n",
       "    <tr>\n",
       "      <th>1</th>\n",
       "      <td>0:05:37</td>\n",
       "      <td>0.3704</td>\n",
       "      <td>19.5130</td>\n",
       "      <td>1.1476</td>\n",
       "      <td>89.5976</td>\n",
       "      <td>83</td>\n",
       "      <td>0.83</td>\n",
       "      <td>-0.0027</td>\n",
       "      <td>1</td>\n",
       "      <td>0</td>\n",
       "      <td>normal</td>\n",
       "      <td>0</td>\n",
       "    </tr>\n",
       "    <tr>\n",
       "      <th>2</th>\n",
       "      <td>0:05:38</td>\n",
       "      <td>0.3999</td>\n",
       "      <td>19.8316</td>\n",
       "      <td>1.1466</td>\n",
       "      <td>89.4905</td>\n",
       "      <td>86</td>\n",
       "      <td>0.86</td>\n",
       "      <td>-0.0051</td>\n",
       "      <td>1</td>\n",
       "      <td>0</td>\n",
       "      <td>normal</td>\n",
       "      <td>0</td>\n",
       "    </tr>\n",
       "    <tr>\n",
       "      <th>3</th>\n",
       "      <td>0:05:39</td>\n",
       "      <td>0.3787</td>\n",
       "      <td>20.0386</td>\n",
       "      <td>1.1521</td>\n",
       "      <td>89.2123</td>\n",
       "      <td>88</td>\n",
       "      <td>0.88</td>\n",
       "      <td>-0.0009</td>\n",
       "      <td>1</td>\n",
       "      <td>0</td>\n",
       "      <td>normal</td>\n",
       "      <td>0</td>\n",
       "    </tr>\n",
       "    <tr>\n",
       "      <th>4</th>\n",
       "      <td>0:05:40</td>\n",
       "      <td>0.4031</td>\n",
       "      <td>20.4625</td>\n",
       "      <td>1.1499</td>\n",
       "      <td>89.2521</td>\n",
       "      <td>88</td>\n",
       "      <td>0.88</td>\n",
       "      <td>-0.0012</td>\n",
       "      <td>1</td>\n",
       "      <td>0</td>\n",
       "      <td>normal</td>\n",
       "      <td>0</td>\n",
       "    </tr>\n",
       "  </tbody>\n",
       "</table>\n",
       "</div>"
      ],
      "text/plain": [
       "  timestamp       X        Y   Speed  Heading  AgentCount  Density     Acc  \\\n",
       "0   0:05:36  0.4225  19.1176  1.1432  89.1222          81     0.81 -0.0027   \n",
       "1   0:05:37  0.3704  19.5130  1.1476  89.5976          83     0.83 -0.0027   \n",
       "2   0:05:38  0.3999  19.8316  1.1466  89.4905          86     0.86 -0.0051   \n",
       "3   0:05:39  0.3787  20.0386  1.1521  89.2123          88     0.88 -0.0009   \n",
       "4   0:05:40  0.4031  20.4625  1.1499  89.2521          88     0.88 -0.0012   \n",
       "\n",
       "   LevelOfCrowdness  label  label2  Severity_level  \n",
       "0                 1      0  normal               0  \n",
       "1                 1      0  normal               0  \n",
       "2                 1      0  normal               0  \n",
       "3                 1      0  normal               0  \n",
       "4                 1      0  normal               0  "
      ]
     },
     "execution_count": 29,
     "metadata": {},
     "output_type": "execute_result"
    }
   ],
   "source": [
    "filepath = r'D:\\infosys_spring\\anomaly-detection-project\\dataset\\anomaly_data.csv'\n",
    "df = pd.read_csv(filepath)\n",
    "df.head()"
   ]
  },
  {
   "cell_type": "code",
   "execution_count": 30,
   "metadata": {},
   "outputs": [
    {
     "name": "stdout",
     "output_type": "stream",
     "text": [
      "<class 'pandas.core.frame.DataFrame'>\n",
      "RangeIndex: 24123 entries, 0 to 24122\n",
      "Data columns (total 12 columns):\n",
      " #   Column            Non-Null Count  Dtype  \n",
      "---  ------            --------------  -----  \n",
      " 0   timestamp         24123 non-null  object \n",
      " 1   X                 24123 non-null  float64\n",
      " 2   Y                 24123 non-null  float64\n",
      " 3   Speed             24123 non-null  float64\n",
      " 4   Heading           24123 non-null  float64\n",
      " 5   AgentCount        24123 non-null  int64  \n",
      " 6   Density           24123 non-null  float64\n",
      " 7   Acc               24019 non-null  float64\n",
      " 8   LevelOfCrowdness  24123 non-null  int64  \n",
      " 9   label             24123 non-null  int64  \n",
      " 10  label2            24123 non-null  object \n",
      " 11  Severity_level    24123 non-null  int64  \n",
      "dtypes: float64(6), int64(4), object(2)\n",
      "memory usage: 2.2+ MB\n"
     ]
    }
   ],
   "source": [
    "df.info()"
   ]
  },
  {
   "cell_type": "code",
   "execution_count": 31,
   "metadata": {},
   "outputs": [
    {
     "data": {
      "text/html": [
       "<div>\n",
       "<style scoped>\n",
       "    .dataframe tbody tr th:only-of-type {\n",
       "        vertical-align: middle;\n",
       "    }\n",
       "\n",
       "    .dataframe tbody tr th {\n",
       "        vertical-align: top;\n",
       "    }\n",
       "\n",
       "    .dataframe thead th {\n",
       "        text-align: right;\n",
       "    }\n",
       "</style>\n",
       "<table border=\"1\" class=\"dataframe\">\n",
       "  <thead>\n",
       "    <tr style=\"text-align: right;\">\n",
       "      <th></th>\n",
       "      <th>X</th>\n",
       "      <th>Y</th>\n",
       "      <th>Speed</th>\n",
       "      <th>Heading</th>\n",
       "      <th>AgentCount</th>\n",
       "      <th>Density</th>\n",
       "      <th>Acc</th>\n",
       "      <th>LevelOfCrowdness</th>\n",
       "      <th>label</th>\n",
       "      <th>Severity_level</th>\n",
       "    </tr>\n",
       "  </thead>\n",
       "  <tbody>\n",
       "    <tr>\n",
       "      <th>count</th>\n",
       "      <td>24123.000000</td>\n",
       "      <td>24123.000000</td>\n",
       "      <td>24123.000000</td>\n",
       "      <td>24123.000000</td>\n",
       "      <td>24123.000000</td>\n",
       "      <td>24123.000000</td>\n",
       "      <td>24019.000000</td>\n",
       "      <td>24123.000000</td>\n",
       "      <td>24123.000000</td>\n",
       "      <td>24123.000000</td>\n",
       "    </tr>\n",
       "    <tr>\n",
       "      <th>mean</th>\n",
       "      <td>0.319789</td>\n",
       "      <td>19.989362</td>\n",
       "      <td>0.742941</td>\n",
       "      <td>90.314782</td>\n",
       "      <td>251.092277</td>\n",
       "      <td>2.510923</td>\n",
       "      <td>0.004203</td>\n",
       "      <td>2.337064</td>\n",
       "      <td>0.288977</td>\n",
       "      <td>0.509265</td>\n",
       "    </tr>\n",
       "    <tr>\n",
       "      <th>std</th>\n",
       "      <td>0.067545</td>\n",
       "      <td>1.205473</td>\n",
       "      <td>0.279331</td>\n",
       "      <td>4.803848</td>\n",
       "      <td>167.615884</td>\n",
       "      <td>1.676159</td>\n",
       "      <td>0.032528</td>\n",
       "      <td>1.456331</td>\n",
       "      <td>0.453297</td>\n",
       "      <td>0.857201</td>\n",
       "    </tr>\n",
       "    <tr>\n",
       "      <th>min</th>\n",
       "      <td>-1.205900</td>\n",
       "      <td>11.162700</td>\n",
       "      <td>0.124400</td>\n",
       "      <td>84.324100</td>\n",
       "      <td>1.000000</td>\n",
       "      <td>0.010000</td>\n",
       "      <td>-1.031300</td>\n",
       "      <td>1.000000</td>\n",
       "      <td>0.000000</td>\n",
       "      <td>0.000000</td>\n",
       "    </tr>\n",
       "    <tr>\n",
       "      <th>25%</th>\n",
       "      <td>0.264500</td>\n",
       "      <td>19.575700</td>\n",
       "      <td>0.496700</td>\n",
       "      <td>88.475950</td>\n",
       "      <td>134.000000</td>\n",
       "      <td>1.340000</td>\n",
       "      <td>-0.001400</td>\n",
       "      <td>1.000000</td>\n",
       "      <td>0.000000</td>\n",
       "      <td>0.000000</td>\n",
       "    </tr>\n",
       "    <tr>\n",
       "      <th>50%</th>\n",
       "      <td>0.325400</td>\n",
       "      <td>20.288600</td>\n",
       "      <td>0.784300</td>\n",
       "      <td>89.170200</td>\n",
       "      <td>187.000000</td>\n",
       "      <td>1.870000</td>\n",
       "      <td>0.006300</td>\n",
       "      <td>2.000000</td>\n",
       "      <td>0.000000</td>\n",
       "      <td>0.000000</td>\n",
       "    </tr>\n",
       "    <tr>\n",
       "      <th>75%</th>\n",
       "      <td>0.356800</td>\n",
       "      <td>20.692900</td>\n",
       "      <td>1.005900</td>\n",
       "      <td>89.798100</td>\n",
       "      <td>336.000000</td>\n",
       "      <td>3.360000</td>\n",
       "      <td>0.013900</td>\n",
       "      <td>3.000000</td>\n",
       "      <td>1.000000</td>\n",
       "      <td>1.000000</td>\n",
       "    </tr>\n",
       "    <tr>\n",
       "      <th>max</th>\n",
       "      <td>1.966700</td>\n",
       "      <td>23.771700</td>\n",
       "      <td>1.567800</td>\n",
       "      <td>138.162100</td>\n",
       "      <td>990.000000</td>\n",
       "      <td>9.900000</td>\n",
       "      <td>0.455500</td>\n",
       "      <td>5.000000</td>\n",
       "      <td>1.000000</td>\n",
       "      <td>3.000000</td>\n",
       "    </tr>\n",
       "  </tbody>\n",
       "</table>\n",
       "</div>"
      ],
      "text/plain": [
       "                  X             Y         Speed       Heading    AgentCount  \\\n",
       "count  24123.000000  24123.000000  24123.000000  24123.000000  24123.000000   \n",
       "mean       0.319789     19.989362      0.742941     90.314782    251.092277   \n",
       "std        0.067545      1.205473      0.279331      4.803848    167.615884   \n",
       "min       -1.205900     11.162700      0.124400     84.324100      1.000000   \n",
       "25%        0.264500     19.575700      0.496700     88.475950    134.000000   \n",
       "50%        0.325400     20.288600      0.784300     89.170200    187.000000   \n",
       "75%        0.356800     20.692900      1.005900     89.798100    336.000000   \n",
       "max        1.966700     23.771700      1.567800    138.162100    990.000000   \n",
       "\n",
       "            Density           Acc  LevelOfCrowdness         label  \\\n",
       "count  24123.000000  24019.000000      24123.000000  24123.000000   \n",
       "mean       2.510923      0.004203          2.337064      0.288977   \n",
       "std        1.676159      0.032528          1.456331      0.453297   \n",
       "min        0.010000     -1.031300          1.000000      0.000000   \n",
       "25%        1.340000     -0.001400          1.000000      0.000000   \n",
       "50%        1.870000      0.006300          2.000000      0.000000   \n",
       "75%        3.360000      0.013900          3.000000      1.000000   \n",
       "max        9.900000      0.455500          5.000000      1.000000   \n",
       "\n",
       "       Severity_level  \n",
       "count    24123.000000  \n",
       "mean         0.509265  \n",
       "std          0.857201  \n",
       "min          0.000000  \n",
       "25%          0.000000  \n",
       "50%          0.000000  \n",
       "75%          1.000000  \n",
       "max          3.000000  "
      ]
     },
     "execution_count": 31,
     "metadata": {},
     "output_type": "execute_result"
    }
   ],
   "source": [
    "df.describe()"
   ]
  },
  {
   "cell_type": "code",
   "execution_count": 32,
   "metadata": {},
   "outputs": [
    {
     "data": {
      "text/plain": [
       "timestamp             0\n",
       "X                     0\n",
       "Y                     0\n",
       "Speed                 0\n",
       "Heading               0\n",
       "AgentCount            0\n",
       "Density               0\n",
       "Acc                 104\n",
       "LevelOfCrowdness      0\n",
       "label                 0\n",
       "label2                0\n",
       "Severity_level        0\n",
       "dtype: int64"
      ]
     },
     "execution_count": 32,
     "metadata": {},
     "output_type": "execute_result"
    }
   ],
   "source": [
    "df.isna().sum()"
   ]
  },
  {
   "cell_type": "code",
   "execution_count": 33,
   "metadata": {},
   "outputs": [],
   "source": [
    "df['Acc'] = df['Acc'].fillna(df['Acc'].mean()) "
   ]
  },
  {
   "cell_type": "code",
   "execution_count": 34,
   "metadata": {},
   "outputs": [
    {
     "data": {
      "text/plain": [
       "timestamp           0\n",
       "X                   0\n",
       "Y                   0\n",
       "Speed               0\n",
       "Heading             0\n",
       "AgentCount          0\n",
       "Density             0\n",
       "Acc                 0\n",
       "LevelOfCrowdness    0\n",
       "label               0\n",
       "label2              0\n",
       "Severity_level      0\n",
       "dtype: int64"
      ]
     },
     "execution_count": 34,
     "metadata": {},
     "output_type": "execute_result"
    }
   ],
   "source": [
    "df.isnull().sum()"
   ]
  },
  {
   "cell_type": "code",
   "execution_count": 35,
   "metadata": {},
   "outputs": [
    {
     "name": "stdout",
     "output_type": "stream",
     "text": [
      "75th quartile:  3.36\n",
      "25th quartile:  1.34\n"
     ]
    }
   ],
   "source": [
    "percentile25 = df['Density'].quantile(0.25)\n",
    "percentile75 = df['Density'].quantile(0.75)\n",
    "print(\"75th quartile: \",percentile75)\n",
    "print(\"25th quartile: \",percentile25)"
   ]
  },
  {
   "cell_type": "code",
   "execution_count": 36,
   "metadata": {},
   "outputs": [
    {
     "name": "stdout",
     "output_type": "stream",
     "text": [
      "IQR:  2.0199999999999996\n"
     ]
    }
   ],
   "source": [
    "iqr = percentile75 - percentile25\n",
    "print (\"IQR: \",iqr)"
   ]
  },
  {
   "cell_type": "code",
   "execution_count": 37,
   "metadata": {},
   "outputs": [
    {
     "name": "stdout",
     "output_type": "stream",
     "text": [
      "Upper limit 6.389999999999999\n",
      "Lower limit -1.6899999999999993\n"
     ]
    }
   ],
   "source": [
    "upper_limit = percentile75 + 1.5 * iqr\n",
    "lower_limit = percentile25 - 1.5 * iqr\n",
    "\n",
    "print(\"Upper limit\",upper_limit)\n",
    "print(\"Lower limit\",lower_limit)"
   ]
  },
  {
   "cell_type": "code",
   "execution_count": 38,
   "metadata": {},
   "outputs": [],
   "source": [
    "# def find_outliers_IQR(df):\n",
    "\n",
    "#    q1=df.quantile(0.25)\n",
    "\n",
    "#    q3=df.quantile(0.75)\n",
    "\n",
    "#    IQR=q3-q1\n",
    "\n",
    "#    outliers = df[((df<(q1-1.5*IQR)) | (df>(q3+1.5*IQR)))]\n",
    "\n",
    "#    return outliers\n",
    "# outliers = find_outliers_IQR(df['Speed'])\n",
    "\n",
    "# print(\"number of outliers: \"+ str(len(outliers)))\n",
    "\n",
    "# print(\"max outlier value: \"+ str(outliers.max()))\n",
    "\n",
    "# print(\"min outlier value: \"+ str(outliers.min()))\n",
    "# outliers"
   ]
  },
  {
   "cell_type": "code",
   "execution_count": 39,
   "metadata": {},
   "outputs": [
    {
     "data": {
      "text/html": [
       "<div>\n",
       "<style scoped>\n",
       "    .dataframe tbody tr th:only-of-type {\n",
       "        vertical-align: middle;\n",
       "    }\n",
       "\n",
       "    .dataframe tbody tr th {\n",
       "        vertical-align: top;\n",
       "    }\n",
       "\n",
       "    .dataframe thead th {\n",
       "        text-align: right;\n",
       "    }\n",
       "</style>\n",
       "<table border=\"1\" class=\"dataframe\">\n",
       "  <thead>\n",
       "    <tr style=\"text-align: right;\">\n",
       "      <th></th>\n",
       "      <th>timestamp</th>\n",
       "      <th>X</th>\n",
       "      <th>Y</th>\n",
       "      <th>Speed</th>\n",
       "      <th>Heading</th>\n",
       "      <th>AgentCount</th>\n",
       "      <th>Density</th>\n",
       "      <th>Acc</th>\n",
       "      <th>LevelOfCrowdness</th>\n",
       "      <th>label</th>\n",
       "      <th>label2</th>\n",
       "      <th>Severity_level</th>\n",
       "    </tr>\n",
       "  </thead>\n",
       "  <tbody>\n",
       "    <tr>\n",
       "      <th>0</th>\n",
       "      <td>0:05:36</td>\n",
       "      <td>0.4225</td>\n",
       "      <td>19.1176</td>\n",
       "      <td>1.1432</td>\n",
       "      <td>89.1222</td>\n",
       "      <td>81</td>\n",
       "      <td>0.81</td>\n",
       "      <td>-0.0027</td>\n",
       "      <td>1</td>\n",
       "      <td>0</td>\n",
       "      <td>normal</td>\n",
       "      <td>0</td>\n",
       "    </tr>\n",
       "    <tr>\n",
       "      <th>1</th>\n",
       "      <td>0:05:37</td>\n",
       "      <td>0.3704</td>\n",
       "      <td>19.5130</td>\n",
       "      <td>1.1476</td>\n",
       "      <td>89.5976</td>\n",
       "      <td>83</td>\n",
       "      <td>0.83</td>\n",
       "      <td>-0.0027</td>\n",
       "      <td>1</td>\n",
       "      <td>0</td>\n",
       "      <td>normal</td>\n",
       "      <td>0</td>\n",
       "    </tr>\n",
       "    <tr>\n",
       "      <th>2</th>\n",
       "      <td>0:05:38</td>\n",
       "      <td>0.3999</td>\n",
       "      <td>19.8316</td>\n",
       "      <td>1.1466</td>\n",
       "      <td>89.4905</td>\n",
       "      <td>86</td>\n",
       "      <td>0.86</td>\n",
       "      <td>-0.0051</td>\n",
       "      <td>1</td>\n",
       "      <td>0</td>\n",
       "      <td>normal</td>\n",
       "      <td>0</td>\n",
       "    </tr>\n",
       "    <tr>\n",
       "      <th>3</th>\n",
       "      <td>0:05:39</td>\n",
       "      <td>0.3787</td>\n",
       "      <td>20.0386</td>\n",
       "      <td>1.1521</td>\n",
       "      <td>89.2123</td>\n",
       "      <td>88</td>\n",
       "      <td>0.88</td>\n",
       "      <td>-0.0009</td>\n",
       "      <td>1</td>\n",
       "      <td>0</td>\n",
       "      <td>normal</td>\n",
       "      <td>0</td>\n",
       "    </tr>\n",
       "    <tr>\n",
       "      <th>4</th>\n",
       "      <td>0:05:40</td>\n",
       "      <td>0.4031</td>\n",
       "      <td>20.4625</td>\n",
       "      <td>1.1499</td>\n",
       "      <td>89.2521</td>\n",
       "      <td>88</td>\n",
       "      <td>0.88</td>\n",
       "      <td>-0.0012</td>\n",
       "      <td>1</td>\n",
       "      <td>0</td>\n",
       "      <td>normal</td>\n",
       "      <td>0</td>\n",
       "    </tr>\n",
       "  </tbody>\n",
       "</table>\n",
       "</div>"
      ],
      "text/plain": [
       "  timestamp       X        Y   Speed  Heading  AgentCount  Density     Acc  \\\n",
       "0   0:05:36  0.4225  19.1176  1.1432  89.1222          81     0.81 -0.0027   \n",
       "1   0:05:37  0.3704  19.5130  1.1476  89.5976          83     0.83 -0.0027   \n",
       "2   0:05:38  0.3999  19.8316  1.1466  89.4905          86     0.86 -0.0051   \n",
       "3   0:05:39  0.3787  20.0386  1.1521  89.2123          88     0.88 -0.0009   \n",
       "4   0:05:40  0.4031  20.4625  1.1499  89.2521          88     0.88 -0.0012   \n",
       "\n",
       "   LevelOfCrowdness  label  label2  Severity_level  \n",
       "0                 1      0  normal               0  \n",
       "1                 1      0  normal               0  \n",
       "2                 1      0  normal               0  \n",
       "3                 1      0  normal               0  \n",
       "4                 1      0  normal               0  "
      ]
     },
     "execution_count": 39,
     "metadata": {},
     "output_type": "execute_result"
    }
   ],
   "source": [
    "df.head()"
   ]
  },
  {
   "cell_type": "code",
   "execution_count": 40,
   "metadata": {},
   "outputs": [
    {
     "name": "stdout",
     "output_type": "stream",
     "text": [
      "Index(['timestamp', 'X', 'Y', 'Speed', 'Heading', 'AgentCount', 'Density',\n",
      "       'Acc', 'LevelOfCrowdness', 'label', 'label2', 'Severity_level'],\n",
      "      dtype='object')\n"
     ]
    }
   ],
   "source": [
    "print(df.columns)\n"
   ]
  },
  {
   "cell_type": "code",
   "execution_count": 41,
   "metadata": {},
   "outputs": [],
   "source": [
    "X = df.drop(columns=['timestamp', 'X', 'Y', 'Speed', 'AgentCount',\n",
    "                        'Acc', 'LevelOfCrowdness', 'label', 'label2', 'Severity_level'])\n",
    "y = df['label'] \n",
    "\n",
    "\n",
    "# Split the dataset into training and testing sets\n",
    "X_train, X_test, y_train, y_test = train_test_split(X, y, test_size=0.2, random_state=42, shuffle=True)\n",
    "\n",
    "\n",
    "# # Set Training and Testing Data\n",
    "# from sklearn.model_selection import train_test_split\n",
    "# X_train, X_test, y_train, y_test = train_test_split(X , y, \n",
    "#                                                     shuffle = True, \n",
    "#                                                     test_size=0.3, \n",
    "#                                                     random_state=1)"
   ]
  },
  {
   "cell_type": "code",
   "execution_count": 42,
   "metadata": {},
   "outputs": [],
   "source": [
    "# scaler = StandardScaler()\n",
    "# X_train = scaler.fit_transform(X_train)\n",
    "# X_test = scaler.transform(X_test)"
   ]
  },
  {
   "cell_type": "markdown",
   "metadata": {},
   "source": [
    "# SVM"
   ]
  },
  {
   "cell_type": "code",
   "execution_count": 43,
   "metadata": {},
   "outputs": [],
   "source": [
    "# Set up the SVM model with RBF kernel and use GridSearchCV to find the best hyperparameters\n",
    "svm_model = SVC(kernel='rbf')"
   ]
  },
  {
   "cell_type": "code",
   "execution_count": 44,
   "metadata": {},
   "outputs": [],
   "source": [
    "# Define the parameter grid\n",
    "param_grid = {\n",
    "    'C': [0.1, 1, 10, 100],\n",
    "    'gamma': [1, 0.1, 0.01, 0.001]\n",
    "}"
   ]
  },
  {
   "cell_type": "code",
   "execution_count": 45,
   "metadata": {},
   "outputs": [
    {
     "name": "stdout",
     "output_type": "stream",
     "text": [
      "Fitting 5 folds for each of 16 candidates, totalling 80 fits\n",
      "[CV] END .....................................C=0.1, gamma=1; total time=   1.0s\n",
      "[CV] END .....................................C=0.1, gamma=1; total time=   0.9s\n",
      "[CV] END .....................................C=0.1, gamma=1; total time=   1.0s\n",
      "[CV] END .....................................C=0.1, gamma=1; total time=   1.0s\n",
      "[CV] END .....................................C=0.1, gamma=1; total time=   1.0s\n",
      "[CV] END ...................................C=0.1, gamma=0.1; total time=   0.7s\n",
      "[CV] END ...................................C=0.1, gamma=0.1; total time=   0.7s\n",
      "[CV] END ...................................C=0.1, gamma=0.1; total time=   0.7s\n",
      "[CV] END ...................................C=0.1, gamma=0.1; total time=   0.7s\n",
      "[CV] END ...................................C=0.1, gamma=0.1; total time=   0.7s\n",
      "[CV] END ..................................C=0.1, gamma=0.01; total time=   1.7s\n",
      "[CV] END ..................................C=0.1, gamma=0.01; total time=   1.6s\n",
      "[CV] END ..................................C=0.1, gamma=0.01; total time=   1.6s\n",
      "[CV] END ..................................C=0.1, gamma=0.01; total time=   1.6s\n",
      "[CV] END ..................................C=0.1, gamma=0.01; total time=   1.5s\n",
      "[CV] END .................................C=0.1, gamma=0.001; total time=   5.2s\n",
      "[CV] END .................................C=0.1, gamma=0.001; total time=   5.3s\n",
      "[CV] END .................................C=0.1, gamma=0.001; total time=   5.4s\n",
      "[CV] END .................................C=0.1, gamma=0.001; total time=   5.0s\n",
      "[CV] END .................................C=0.1, gamma=0.001; total time=   5.1s\n",
      "[CV] END .......................................C=1, gamma=1; total time=   0.6s\n",
      "[CV] END .......................................C=1, gamma=1; total time=   0.6s\n",
      "[CV] END .......................................C=1, gamma=1; total time=   0.6s\n",
      "[CV] END .......................................C=1, gamma=1; total time=   0.6s\n",
      "[CV] END .......................................C=1, gamma=1; total time=   0.6s\n",
      "[CV] END .....................................C=1, gamma=0.1; total time=   0.3s\n",
      "[CV] END .....................................C=1, gamma=0.1; total time=   0.3s\n",
      "[CV] END .....................................C=1, gamma=0.1; total time=   0.3s\n",
      "[CV] END .....................................C=1, gamma=0.1; total time=   0.3s\n",
      "[CV] END .....................................C=1, gamma=0.1; total time=   0.3s\n",
      "[CV] END ....................................C=1, gamma=0.01; total time=   0.8s\n",
      "[CV] END ....................................C=1, gamma=0.01; total time=   0.7s\n",
      "[CV] END ....................................C=1, gamma=0.01; total time=   0.7s\n",
      "[CV] END ....................................C=1, gamma=0.01; total time=   0.8s\n",
      "[CV] END ....................................C=1, gamma=0.01; total time=   0.9s\n",
      "[CV] END ...................................C=1, gamma=0.001; total time=   2.5s\n",
      "[CV] END ...................................C=1, gamma=0.001; total time=   2.5s\n",
      "[CV] END ...................................C=1, gamma=0.001; total time=   2.4s\n",
      "[CV] END ...................................C=1, gamma=0.001; total time=   2.3s\n",
      "[CV] END ...................................C=1, gamma=0.001; total time=   2.3s\n",
      "[CV] END ......................................C=10, gamma=1; total time=   0.4s\n",
      "[CV] END ......................................C=10, gamma=1; total time=   0.4s\n",
      "[CV] END ......................................C=10, gamma=1; total time=   0.5s\n",
      "[CV] END ......................................C=10, gamma=1; total time=   0.4s\n",
      "[CV] END ......................................C=10, gamma=1; total time=   0.5s\n",
      "[CV] END ....................................C=10, gamma=0.1; total time=   0.1s\n",
      "[CV] END ....................................C=10, gamma=0.1; total time=   0.1s\n",
      "[CV] END ....................................C=10, gamma=0.1; total time=   0.1s\n",
      "[CV] END ....................................C=10, gamma=0.1; total time=   0.1s\n",
      "[CV] END ....................................C=10, gamma=0.1; total time=   0.1s\n",
      "[CV] END ...................................C=10, gamma=0.01; total time=   0.3s\n",
      "[CV] END ...................................C=10, gamma=0.01; total time=   0.3s\n",
      "[CV] END ...................................C=10, gamma=0.01; total time=   0.3s\n",
      "[CV] END ...................................C=10, gamma=0.01; total time=   0.3s\n",
      "[CV] END ...................................C=10, gamma=0.01; total time=   0.3s\n",
      "[CV] END ..................................C=10, gamma=0.001; total time=   1.0s\n",
      "[CV] END ..................................C=10, gamma=0.001; total time=   1.1s\n",
      "[CV] END ..................................C=10, gamma=0.001; total time=   1.0s\n",
      "[CV] END ..................................C=10, gamma=0.001; total time=   0.9s\n",
      "[CV] END ..................................C=10, gamma=0.001; total time=   1.0s\n",
      "[CV] END .....................................C=100, gamma=1; total time=   0.4s\n",
      "[CV] END .....................................C=100, gamma=1; total time=   0.4s\n",
      "[CV] END .....................................C=100, gamma=1; total time=   0.4s\n",
      "[CV] END .....................................C=100, gamma=1; total time=   0.4s\n",
      "[CV] END .....................................C=100, gamma=1; total time=   0.4s\n",
      "[CV] END ...................................C=100, gamma=0.1; total time=   0.0s\n",
      "[CV] END ...................................C=100, gamma=0.1; total time=   0.0s\n",
      "[CV] END ...................................C=100, gamma=0.1; total time=   0.1s\n",
      "[CV] END ...................................C=100, gamma=0.1; total time=   0.0s\n",
      "[CV] END ...................................C=100, gamma=0.1; total time=   0.0s\n",
      "[CV] END ..................................C=100, gamma=0.01; total time=   0.1s\n",
      "[CV] END ..................................C=100, gamma=0.01; total time=   0.1s\n",
      "[CV] END ..................................C=100, gamma=0.01; total time=   0.1s\n",
      "[CV] END ..................................C=100, gamma=0.01; total time=   0.1s\n",
      "[CV] END ..................................C=100, gamma=0.01; total time=   0.2s\n",
      "[CV] END .................................C=100, gamma=0.001; total time=   0.5s\n",
      "[CV] END .................................C=100, gamma=0.001; total time=   0.6s\n",
      "[CV] END .................................C=100, gamma=0.001; total time=   0.5s\n",
      "[CV] END .................................C=100, gamma=0.001; total time=   0.6s\n",
      "[CV] END .................................C=100, gamma=0.001; total time=   0.6s\n"
     ]
    },
    {
     "data": {
      "text/html": [
       "<style>#sk-container-id-1 {color: black;}#sk-container-id-1 pre{padding: 0;}#sk-container-id-1 div.sk-toggleable {background-color: white;}#sk-container-id-1 label.sk-toggleable__label {cursor: pointer;display: block;width: 100%;margin-bottom: 0;padding: 0.3em;box-sizing: border-box;text-align: center;}#sk-container-id-1 label.sk-toggleable__label-arrow:before {content: \"▸\";float: left;margin-right: 0.25em;color: #696969;}#sk-container-id-1 label.sk-toggleable__label-arrow:hover:before {color: black;}#sk-container-id-1 div.sk-estimator:hover label.sk-toggleable__label-arrow:before {color: black;}#sk-container-id-1 div.sk-toggleable__content {max-height: 0;max-width: 0;overflow: hidden;text-align: left;background-color: #f0f8ff;}#sk-container-id-1 div.sk-toggleable__content pre {margin: 0.2em;color: black;border-radius: 0.25em;background-color: #f0f8ff;}#sk-container-id-1 input.sk-toggleable__control:checked~div.sk-toggleable__content {max-height: 200px;max-width: 100%;overflow: auto;}#sk-container-id-1 input.sk-toggleable__control:checked~label.sk-toggleable__label-arrow:before {content: \"▾\";}#sk-container-id-1 div.sk-estimator input.sk-toggleable__control:checked~label.sk-toggleable__label {background-color: #d4ebff;}#sk-container-id-1 div.sk-label input.sk-toggleable__control:checked~label.sk-toggleable__label {background-color: #d4ebff;}#sk-container-id-1 input.sk-hidden--visually {border: 0;clip: rect(1px 1px 1px 1px);clip: rect(1px, 1px, 1px, 1px);height: 1px;margin: -1px;overflow: hidden;padding: 0;position: absolute;width: 1px;}#sk-container-id-1 div.sk-estimator {font-family: monospace;background-color: #f0f8ff;border: 1px dotted black;border-radius: 0.25em;box-sizing: border-box;margin-bottom: 0.5em;}#sk-container-id-1 div.sk-estimator:hover {background-color: #d4ebff;}#sk-container-id-1 div.sk-parallel-item::after {content: \"\";width: 100%;border-bottom: 1px solid gray;flex-grow: 1;}#sk-container-id-1 div.sk-label:hover label.sk-toggleable__label {background-color: #d4ebff;}#sk-container-id-1 div.sk-serial::before {content: \"\";position: absolute;border-left: 1px solid gray;box-sizing: border-box;top: 0;bottom: 0;left: 50%;z-index: 0;}#sk-container-id-1 div.sk-serial {display: flex;flex-direction: column;align-items: center;background-color: white;padding-right: 0.2em;padding-left: 0.2em;position: relative;}#sk-container-id-1 div.sk-item {position: relative;z-index: 1;}#sk-container-id-1 div.sk-parallel {display: flex;align-items: stretch;justify-content: center;background-color: white;position: relative;}#sk-container-id-1 div.sk-item::before, #sk-container-id-1 div.sk-parallel-item::before {content: \"\";position: absolute;border-left: 1px solid gray;box-sizing: border-box;top: 0;bottom: 0;left: 50%;z-index: -1;}#sk-container-id-1 div.sk-parallel-item {display: flex;flex-direction: column;z-index: 1;position: relative;background-color: white;}#sk-container-id-1 div.sk-parallel-item:first-child::after {align-self: flex-end;width: 50%;}#sk-container-id-1 div.sk-parallel-item:last-child::after {align-self: flex-start;width: 50%;}#sk-container-id-1 div.sk-parallel-item:only-child::after {width: 0;}#sk-container-id-1 div.sk-dashed-wrapped {border: 1px dashed gray;margin: 0 0.4em 0.5em 0.4em;box-sizing: border-box;padding-bottom: 0.4em;background-color: white;}#sk-container-id-1 div.sk-label label {font-family: monospace;font-weight: bold;display: inline-block;line-height: 1.2em;}#sk-container-id-1 div.sk-label-container {text-align: center;}#sk-container-id-1 div.sk-container {/* jupyter's `normalize.less` sets `[hidden] { display: none; }` but bootstrap.min.css set `[hidden] { display: none !important; }` so we also need the `!important` here to be able to override the default hidden behavior on the sphinx rendered scikit-learn.org. See: https://github.com/scikit-learn/scikit-learn/issues/21755 */display: inline-block !important;position: relative;}#sk-container-id-1 div.sk-text-repr-fallback {display: none;}</style><div id=\"sk-container-id-1\" class=\"sk-top-container\"><div class=\"sk-text-repr-fallback\"><pre>GridSearchCV(cv=5, estimator=SVC(),\n",
       "             param_grid={&#x27;C&#x27;: [0.1, 1, 10, 100],\n",
       "                         &#x27;gamma&#x27;: [1, 0.1, 0.01, 0.001]},\n",
       "             scoring=&#x27;accuracy&#x27;, verbose=2)</pre><b>In a Jupyter environment, please rerun this cell to show the HTML representation or trust the notebook. <br />On GitHub, the HTML representation is unable to render, please try loading this page with nbviewer.org.</b></div><div class=\"sk-container\" hidden><div class=\"sk-item sk-dashed-wrapped\"><div class=\"sk-label-container\"><div class=\"sk-label sk-toggleable\"><input class=\"sk-toggleable__control sk-hidden--visually\" id=\"sk-estimator-id-1\" type=\"checkbox\" ><label for=\"sk-estimator-id-1\" class=\"sk-toggleable__label sk-toggleable__label-arrow\">GridSearchCV</label><div class=\"sk-toggleable__content\"><pre>GridSearchCV(cv=5, estimator=SVC(),\n",
       "             param_grid={&#x27;C&#x27;: [0.1, 1, 10, 100],\n",
       "                         &#x27;gamma&#x27;: [1, 0.1, 0.01, 0.001]},\n",
       "             scoring=&#x27;accuracy&#x27;, verbose=2)</pre></div></div></div><div class=\"sk-parallel\"><div class=\"sk-parallel-item\"><div class=\"sk-item\"><div class=\"sk-label-container\"><div class=\"sk-label sk-toggleable\"><input class=\"sk-toggleable__control sk-hidden--visually\" id=\"sk-estimator-id-2\" type=\"checkbox\" ><label for=\"sk-estimator-id-2\" class=\"sk-toggleable__label sk-toggleable__label-arrow\">estimator: SVC</label><div class=\"sk-toggleable__content\"><pre>SVC()</pre></div></div></div><div class=\"sk-serial\"><div class=\"sk-item\"><div class=\"sk-estimator sk-toggleable\"><input class=\"sk-toggleable__control sk-hidden--visually\" id=\"sk-estimator-id-3\" type=\"checkbox\" ><label for=\"sk-estimator-id-3\" class=\"sk-toggleable__label sk-toggleable__label-arrow\">SVC</label><div class=\"sk-toggleable__content\"><pre>SVC()</pre></div></div></div></div></div></div></div></div></div></div>"
      ],
      "text/plain": [
       "GridSearchCV(cv=5, estimator=SVC(),\n",
       "             param_grid={'C': [0.1, 1, 10, 100],\n",
       "                         'gamma': [1, 0.1, 0.01, 0.001]},\n",
       "             scoring='accuracy', verbose=2)"
      ]
     },
     "execution_count": 45,
     "metadata": {},
     "output_type": "execute_result"
    }
   ],
   "source": [
    "# Use GridSearchCV to find the best parameters\n",
    "grid_search = GridSearchCV(svm_model, param_grid, refit=True, verbose=2, cv=5, scoring='accuracy')\n",
    "grid_search.fit(X_train, y_train)"
   ]
  },
  {
   "cell_type": "code",
   "execution_count": 46,
   "metadata": {},
   "outputs": [],
   "source": [
    "# Get the best estimator\n",
    "best_svm_model = grid_search.best_estimator_"
   ]
  },
  {
   "cell_type": "code",
   "execution_count": 47,
   "metadata": {},
   "outputs": [],
   "source": [
    "# Make predictions\n",
    "y_pred = best_svm_model.predict(X_test)"
   ]
  },
  {
   "cell_type": "code",
   "execution_count": 48,
   "metadata": {},
   "outputs": [
    {
     "name": "stdout",
     "output_type": "stream",
     "text": [
      "Best Parameters: {'C': 100, 'gamma': 0.1}\n",
      "Accuracy: 0.9989637305699481\n",
      "Precision: 0.9989652653291751\n",
      "Recall: 0.9989637305699481\n",
      "F1 Score: 0.9989632221315656\n"
     ]
    }
   ],
   "source": [
    "# Calculate metrics\n",
    "accuracy = accuracy_score(y_test, y_pred)\n",
    "precision = precision_score(y_test, y_pred, average='weighted', zero_division=0)\n",
    "recall = recall_score(y_test, y_pred, average='weighted')\n",
    "f1 = f1_score(y_test, y_pred, average='weighted')\n",
    "cm = confusion_matrix(y_test, y_pred)\n",
    "\n",
    "# Print the best parameters and the results\n",
    "print(f\"Best Parameters: {grid_search.best_params_}\")\n",
    "print(f\"Accuracy: {accuracy}\")\n",
    "print(f\"Precision: {precision}\")\n",
    "print(f\"Recall: {recall}\")\n",
    "print(f\"F1 Score: {f1}\")"
   ]
  },
  {
   "cell_type": "code",
   "execution_count": 49,
   "metadata": {},
   "outputs": [
    {
     "data": {
      "image/png": "[encoded data removed]",
      "text/plain": [
       "<Figure size 640x480 with 2 Axes>"
      ]
     },
     "metadata": {},
     "output_type": "display_data"
    }
   ],
   "source": [
    "# Plot the confusion matrix\n",
    "sns.heatmap(cm, annot=True, fmt='d', cmap='Blues')\n",
    "plt.title('SVM with RBF Kernel Confusion Matrix')\n",
    "plt.ylabel('True label')\n",
    "plt.xlabel('Predicted label')\n",
    "plt.show()"
   ]
  },
  {
   "cell_type": "code",
   "execution_count": 50,
   "metadata": {},
   "outputs": [],
   "source": [
    "# # Define the models to train\n",
    "# models = {\n",
    "#     'Decision Tree': DecisionTreeClassifier(),\n",
    "#     'Random Forest': RandomForestClassifier(),\n",
    "#     'Support Vector Machine': SVC(),\n",
    "#     'K-Nearest Neighbors': KNeighborsClassifier()\n",
    "# }\n",
    "\n",
    "# # Train each model and evaluate its performance using cross-validation\n",
    "# results = {}\n",
    "# for model_name, model in models.items():\n",
    "#     model.fit(X_train, y_train)\n",
    "#     y_pred = model.predict(X_test)\n",
    "    \n",
    "#     # Calculate metrics\n",
    "#     accuracy = accuracy_score(y_test, y_pred)\n",
    "#     precision = precision_score(y_test, y_pred, average='weighted', zero_division=0)\n",
    "#     recall = recall_score(y_test, y_pred, average='weighted')\n",
    "#     f1 = f1_score(y_test, y_pred, average='weighted')\n",
    "#     cm = confusion_matrix(y_test, y_pred)\n",
    "    \n",
    "#     # Perform cross-validation\n",
    "#     cross_val_accuracy = cross_val_score(model, X, y, cv=5, scoring='accuracy').mean()\n",
    "    \n",
    "#     results[model_name] = {\n",
    "#         'Accuracy': accuracy,\n",
    "#         'Precision': precision,\n",
    "#         'Recall': recall,\n",
    "#         'F1 Score': f1,\n",
    "#         'Cross-Validation Accuracy': cross_val_accuracy,\n",
    "#         'Confusion Matrix': cm\n",
    "#     }"
   ]
  },
  {
   "cell_type": "code",
   "execution_count": 51,
   "metadata": {},
   "outputs": [],
   "source": [
    "#     # Perform cross-validation\n",
    "# cross_val_accuracy = cross_val_score(model, X, y, cv=5, scoring='accuracy').mean()\n",
    "\n",
    "# results[model_name] = {\n",
    "#     'Accuracy': accuracy,\n",
    "#     'Precision': precision,\n",
    "#     'Recall': recall,\n",
    "#     'F1 Score': f1,\n",
    "#     'Cross-Validation Accuracy': cross_val_accuracy,\n",
    "#     'Confusion Matrix': cm\n",
    "# }\n",
    "\n",
    "# # Convert results to a DataFrame for better visualization\n",
    "# results_df = pd.DataFrame(results).T\n",
    "\n",
    "# # Print the results\n",
    "# print(results_df)\n"
   ]
  },
  {
   "cell_type": "code",
   "execution_count": 52,
   "metadata": {},
   "outputs": [],
   "source": [
    "# # Plot the results for comparison\n",
    "# results_df[['Accuracy', 'Precision', 'Recall', 'F1 Score', 'Cross-Validation Accuracy']].plot(kind='bar', figsize=(14, 8))\n",
    "# plt.title('Model Comparison')\n",
    "# plt.ylabel('Score')\n",
    "# plt.xlabel('Model')\n",
    "# plt.legend(loc='best')\n",
    "# plt.show()\n"
   ]
  }
 ],
 "metadata": {
  "kernelspec": {
   "display_name": "base",
   "language": "python",
   "name": "python3"
  },
  "language_info": {
   "codemirror_mode": {
    "name": "ipython",
    "version": 3
   },
   "file_extension": ".py",
   "mimetype": "text/x-python",
   "name": "python",
   "nbconvert_exporter": "python",
   "pygments_lexer": "ipython3",
   "version": "3.11.5"
  }
 },
 "nbformat": 4,
 "nbformat_minor": 2
}
